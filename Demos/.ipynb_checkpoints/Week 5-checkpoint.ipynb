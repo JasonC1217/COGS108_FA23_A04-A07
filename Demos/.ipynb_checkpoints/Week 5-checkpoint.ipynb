{
 "cells": [
  {
   "cell_type": "markdown",
   "id": "40f43cde",
   "metadata": {},
   "source": [
    "# COGS 108 FA23 A04/A07\n",
    "## Week 5 Demo: EDA\n",
    "#### This demo is adapted from D4."
   ]
  },
  {
   "cell_type": "markdown",
   "id": "84688d27",
   "metadata": {},
   "source": [
    "### Part I: Setup & Data\n",
    "Import data & data cleaning"
   ]
  },
  {
   "cell_type": "code",
   "execution_count": null,
   "id": "ef7897fe",
   "metadata": {},
   "outputs": [],
   "source": [
    "# import pandas & numpy library\n",
    "import pandas as pd\n",
    "import numpy as np\n",
    "\n",
    "# Import seaborn and apply its plotting styles\n",
    "import seaborn as sns\n",
    "sns.set(font_scale=2, style=\"white\")\n",
    "\n",
    "# import matplotlib\n",
    "import matplotlib as mpl\n",
    "import matplotlib.pyplot as plt\n",
    "import matplotlib.style as style\n",
    "# set plotting size parameter\n",
    "plt.rcParams['figure.figsize'] = (12, 5)\n",
    "\n",
    "# packages helpful for webscraping\n",
    "import requests\n",
    "import bs4\n",
    "from bs4 import BeautifulSoup\n",
    "\n",
    "#improve resolution\n",
    "%config InlineBackend.figure_format ='retina'"
   ]
  },
  {
   "cell_type": "code",
   "execution_count": null,
   "id": "d6a2f487",
   "metadata": {},
   "outputs": [],
   "source": [
    "# Get CSV directly from URL for Congress\n",
    "politics = pd.read_csv('https://raw.githubusercontent.com/fivethirtyeight/data/master/congress-age/congress-terms.csv')\n",
    "politics"
   ]
  },
  {
   "cell_type": "code",
   "execution_count": null,
   "id": "2c017704",
   "metadata": {},
   "outputs": [],
   "source": [
    "# specify webpage we want to scrape \n",
    "wiki = 'https://web.archive.org/web/20210204194357/https://en.wikipedia.org/wiki/Demographics_of_the_United_States'\n",
    "req = requests.get(wiki)\n",
    "soup = BeautifulSoup(req.content, 'html') # get contents of web page\n",
    "\n",
    "wikitables = soup.findAll(\"table\", 'wikitable') # get tables\n",
    "# extract the tables we want\n",
    "tbl1 = wikitables[8] \n",
    "tbl2 = wikitables[9]\n",
    "\n",
    "# create some empty dataframes\n",
    "# note the tables aren't the same size. ugh.\n",
    "new_tbl1 = pd.DataFrame(columns=range(0,10), index = range(0,3)) # I know the size \n",
    "new_tbl2 = pd.DataFrame(columns=range(0,13), index = range(0,3))\n",
    "\n",
    "# get the column names for our first table\n",
    "ind=0\n",
    "cols_list = []\n",
    "for header in tbl1.find_all('tr'): # specify HTML tags\n",
    "    header_name = header.find_all('th') # tag containing column names\n",
    "    for head in header_name:\n",
    "        cols_list.append(head.get_text()) # get the text from between the tags\n",
    "new_tbl1.columns = [s.replace('\\n','') for s in cols_list] # get rid of new line characters in column names\n",
    "\n",
    "# fill in the contents for our first table\n",
    "row_marker = -1\n",
    "for row in tbl1.find_all('tr'):\n",
    "    column_marker = 0\n",
    "    columns = row.find_all('td') # different tag than above for table contents\n",
    "    for column in columns:\n",
    "        new_tbl1.iat[row_marker,column_marker] = column.get_text()\n",
    "        column_marker += 1\n",
    "    row_marker += 1\n",
    "    \n",
    "# get the column names for the second table\n",
    "ind = 0\n",
    "cols_list = []\n",
    "for header in tbl2.find_all('tr'):\n",
    "    header_name = header.find_all('th')\n",
    "    for head in header_name:\n",
    "        cols_list.append(head.get_text())\n",
    "new_tbl2.columns = [s.replace('\\n','') for s in cols_list] \n",
    "\n",
    "# fill in contents for second table\n",
    "row_marker = -1\n",
    "for row in tbl2.find_all('tr'):\n",
    "    column_marker = 0\n",
    "    columns = row.find_all('td')\n",
    "    for column in columns:\n",
    "        new_tbl2.iat[row_marker,column_marker] = column.get_text()\n",
    "        column_marker += 1\n",
    "    row_marker += 1\n",
    "    \n",
    "# of course there are new line characters to get rid of \n",
    "new_tbl2 = new_tbl2.replace(r'[\\\\n,\\n]',' ', regex=True) \n",
    "new_tbl1 = new_tbl1.replace(r'[\\\\n,\\n]',' ', regex=True) \n",
    "\n",
    "# set Years as index\n",
    "new_tbl1.set_index(['Years'], inplace=True)\n",
    "new_tbl2.set_index(['Years'], inplace=True)\n",
    "\n",
    "# get it into tidy data format\n",
    "age = new_tbl1.join(new_tbl2) # join two tables into one by index\n",
    "age = age.transpose() # flip it so observations in rows\n",
    "age = age.reset_index() # add year back in as a column\n",
    "age.columns = ['year', 'age', 'median_males', 'median_females'] # rename columns\n",
    "age = age.apply(pd.to_numeric, errors='coerce') # fix type of information stored\n",
    "age.head() # flipping finally"
   ]
  },
  {
   "cell_type": "markdown",
   "id": "6cf7ab1c",
   "metadata": {},
   "source": [
    "### Part II: EDA"
   ]
  },
  {
   "cell_type": "markdown",
   "id": "8f1333f3",
   "metadata": {},
   "source": [
    "#### Here are some useful tools for EDA:"
   ]
  },
  {
   "cell_type": "code",
   "execution_count": null,
   "id": "78db83c3",
   "metadata": {},
   "outputs": [],
   "source": [
    "# determine the shape of the data:\n",
    "politics.shape"
   ]
  },
  {
   "cell_type": "code",
   "execution_count": null,
   "id": "c2e2f0ce",
   "metadata": {},
   "outputs": [],
   "source": [
    "# get descriptive statistics for quantitative variables:\n",
    "politics.describe()"
   ]
  },
  {
   "cell_type": "code",
   "execution_count": null,
   "id": "4d58ddee",
   "metadata": {},
   "outputs": [],
   "source": [
    "#take a look at how party breaks down\n",
    "politics.party.value_counts()\n",
    "\n",
    "# 'value_counts()' is a pandas DataFrame method used to count the unique values in a specific column.\n",
    "# In this case, it will count the occurrences of each political party in the 'party' column.\n",
    "\n",
    "# The result will be a Series object with party names as the index and the count of occurrences as the values.\n",
    "# You can use this information to understand the distribution of political parties in your dataset."
   ]
  },
  {
   "cell_type": "code",
   "execution_count": null,
   "id": "5201bf7e",
   "metadata": {},
   "outputs": [],
   "source": [
    "# what about party broken down by chamber?\n",
    "(politics\n",
    " .groupby('chamber')\n",
    " .party.value_counts())\n",
    "\n",
    "# We use the 'groupby' method to group the data by the 'chamber' column first.\n",
    "# This means it will group rows based on the unique values found in the 'chamber' column.\n",
    "\n",
    "# Then, within each group, it uses the 'party' column to count the occurrences of each party.\n",
    "# 'party.value_counts()' counts the occurrences of each party within each group separately.\n",
    "\n",
    "# The result will be a multi-level Series, where the outer level corresponds to 'chamber',\n",
    "# and the inner level corresponds to 'party'. It will show the count of each party within each chamber."
   ]
  },
  {
   "cell_type": "markdown",
   "id": "db5dd6b7",
   "metadata": {},
   "source": [
    "#### Data Visulizations:"
   ]
  },
  {
   "cell_type": "code",
   "execution_count": null,
   "id": "0b08031c",
   "metadata": {},
   "outputs": [],
   "source": [
    "# Pllot the general age trend in Congress:\n",
    "sns.lineplot(x=\"congress\", y=\"age\", data=politics);\n",
    "\n",
    "plt.show()"
   ]
  },
  {
   "cell_type": "markdown",
   "id": "34d399c8",
   "metadata": {},
   "source": [
    "We'd rather the years be on the x-axis, rather than the congress, as we have a better understanding of years. To do this, take a look at the `to_datetime()` function from `pandas` and consider how the `'termstart'` Series in the `politics` dataset can be used to extract the year."
   ]
  },
  {
   "cell_type": "code",
   "execution_count": null,
   "id": "c14a9726",
   "metadata": {},
   "outputs": [],
   "source": [
    "politics['year'] = pd.to_datetime(politics['termstart']).dt.year\n",
    "\n",
    "# This line of code adds a new column 'year' to the 'politics' DataFrame.\n",
    "# It does this by first converting the 'termstart' column to a datetime format \n",
    "# using pd.to_datetime().\n",
    "# Then, it extracts the year component from the datetime using .dt.year and assigns \n",
    "# it to the 'year' column. This is done to extract the year from the 'termstart' date.\n",
    "\n",
    "sns.lineplot(x=\"year\", y=\"age\", data=politics);\n",
    "\n",
    "plt.show()\n",
    "\n",
    "# Plot the data again."
   ]
  },
  {
   "cell_type": "code",
   "execution_count": null,
   "id": "cfc6a90e",
   "metadata": {},
   "outputs": [],
   "source": [
    "# Plot the ages in Congress broken down by party:\n",
    "sns.lineplot(x=\"year\", y=\"age\", hue=\"party\",  data=politics);\n",
    "\n",
    "plt.show()"
   ]
  },
  {
   "cell_type": "code",
   "execution_count": null,
   "id": "bb3ada1c",
   "metadata": {},
   "outputs": [],
   "source": [
    "## filter to only include dems and repubs\n",
    "dem_rep = politics[(politics.party == 'D') | (politics.party == 'R')]\n",
    "\n",
    "# This line of code creates a new DataFrame called 'dem_rep' by applying \n",
    "# a boolean condition to the 'politics' DataFrame.\n",
    "\n",
    "# The condition (politics.party == 'D') | (politics.party == 'R') checks \n",
    "# if the 'party' column is either 'D' (Democratic Party) or 'R' (Republican Party) for each row in the DataFrame.\n",
    "\n",
    "# The result is a DataFrame that includes only the rows where this \n",
    "# condition is True, effectively filtering out rows with other party affiliations.\n",
    "\n",
    "dem_rep.shape"
   ]
  },
  {
   "cell_type": "code",
   "execution_count": null,
   "id": "0d44e3a3",
   "metadata": {},
   "outputs": [],
   "source": [
    "# Plot age trend by party \n",
    "\n",
    "sns.lineplot(x = \"year\", \n",
    "             y = \"age\", \n",
    "             hue = \"party\",  \n",
    "             data = dem_rep);\n",
    "plt.show()"
   ]
  },
  {
   "cell_type": "code",
   "execution_count": null,
   "id": "8ce60895",
   "metadata": {},
   "outputs": [],
   "source": [
    "# Create a relational plot using Seaborn to visualize data from the 'dem_rep' DataFrame.\n",
    "# This code will create separate line plots for different legislative chambers.\n",
    "\n",
    "sns.relplot(\n",
    "    x=\"year\",           # Set the 'year' column as the x-axis variable.\n",
    "    y=\"age\",            # Set the 'age' column as the y-axis variable.\n",
    "    hue=\"party\",        # Color-code the lines based on the 'party' column (Democratic or Republican).\n",
    "    col='chamber',      # Create separate columns for each unique value in the 'chamber' column.\n",
    "    kind=\"line\",        # Specify that a line plot should be created.\n",
    "    data=dem_rep,       # Use data from the 'dem_rep' DataFrame.\n",
    ")\n",
    "\n",
    "plt.show()\n",
    "\n",
    "# The resulting plot will show trends in the ages of Democratic and Republican individuals\n",
    "# over the years, with separate line plots for each legislative chamber."
   ]
  },
  {
   "cell_type": "markdown",
   "id": "ba4c7f2c",
   "metadata": {},
   "source": [
    "A relational plot, often created using libraries like Seaborn in Python, is a versatile data visualization technique that helps explore and visualize relationships between two or more variables in a dataset."
   ]
  },
  {
   "cell_type": "markdown",
   "id": "06c6142c",
   "metadata": {},
   "source": [
    "We know that people often spend multiple terms in Congress. Here, we look to see if this trend in age and party is driven by incumbents. To determine this, we filter to a dataset that only includes non-incumbents. This dataset should include 2920 individuals (of the original 15K)."
   ]
  },
  {
   "cell_type": "code",
   "execution_count": null,
   "id": "75a23b7d",
   "metadata": {},
   "outputs": [],
   "source": [
    "# Create a new DataFrame called 'new_members' by filtering the 'dem_rep' DataFrame.\n",
    "# This filter selects only individuals who are not incumbents (those marked as 'No' in the 'incumbent' column).\n",
    "\n",
    "new_members = dem_rep[(dem_rep.incumbent == 'No')]\n",
    "\n",
    "# The resulting 'new_members' DataFrame will contain data only for individuals who are not incumbents,\n",
    "# as determined by the condition based on the 'incumbent' column."
   ]
  },
  {
   "cell_type": "code",
   "execution_count": null,
   "id": "fb996193",
   "metadata": {},
   "outputs": [],
   "source": [
    "# Plot the new dataset:\n",
    "\n",
    "sns.lineplot(x = \"year\", \n",
    "             y = \"age\", \n",
    "             hue = \"party\",  \n",
    "             data = new_members\n",
    "            );\n",
    "plt.show()"
   ]
  }
 ],
 "metadata": {
  "kernelspec": {
   "display_name": "Python 3 (ipykernel)",
   "language": "python",
   "name": "python3"
  },
  "language_info": {
   "codemirror_mode": {
    "name": "ipython",
    "version": 3
   },
   "file_extension": ".py",
   "mimetype": "text/x-python",
   "name": "python",
   "nbconvert_exporter": "python",
   "pygments_lexer": "ipython3",
   "version": "3.9.13"
  }
 },
 "nbformat": 4,
 "nbformat_minor": 5
}
