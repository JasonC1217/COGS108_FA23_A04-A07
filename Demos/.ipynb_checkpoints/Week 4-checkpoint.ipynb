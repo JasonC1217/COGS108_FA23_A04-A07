{
 "cells": [
  {
   "cell_type": "markdown",
   "id": "90470cee",
   "metadata": {},
   "source": [
    "# COGS 108 FA23 A04/A07\n",
    "## Week 4 Demo: Data Visualizations and EDA\n",
    "#### This demo is adapted from D3."
   ]
  },
  {
   "cell_type": "markdown",
   "id": "17a0679a",
   "metadata": {},
   "source": [
    "### First of all, import libraries needed:"
   ]
  },
  {
   "cell_type": "code",
   "execution_count": 1,
   "id": "b00ed7b2",
   "metadata": {},
   "outputs": [],
   "source": [
    "import numpy as np\n",
    "import pandas as pd\n",
    "import matplotlib.pyplot as plt\n",
    "import seaborn as sns"
   ]
  },
  {
   "cell_type": "markdown",
   "id": "90cdc70a",
   "metadata": {},
   "source": [
    "### Let's then load and clean our data:"
   ]
  },
  {
   "cell_type": "markdown",
   "id": "83d1ea29",
   "metadata": {},
   "source": [
    "The cell below is for better visualizations:"
   ]
  },
  {
   "cell_type": "code",
   "execution_count": 2,
   "id": "ea8b5e36",
   "metadata": {},
   "outputs": [],
   "source": [
    "# Configure libraries\n",
    "# The seaborn library makes plots look nicer\n",
    "sns.set(context = 'talk', style='white')\n",
    "\n",
    "# Don't display too many rows/cols of DataFrames\n",
    "pd.options.display.max_rows = 7\n",
    "pd.options.display.max_columns = 8\n",
    "\n",
    "# Round decimals when displaying DataFrames\n",
    "pd.options.display.precision = 2\n",
    "\n",
    "# Make plots just slightly bigger for displaying well in notebook\n",
    "# set plotting size parameter\n",
    "plt.rcParams['figure.figsize'] = (10, 5)"
   ]
  },
  {
   "cell_type": "code",
   "execution_count": 3,
   "id": "a43ff9c7",
   "metadata": {},
   "outputs": [
    {
     "data": {
      "text/html": [
       "<div>\n",
       "<style scoped>\n",
       "    .dataframe tbody tr th:only-of-type {\n",
       "        vertical-align: middle;\n",
       "    }\n",
       "\n",
       "    .dataframe tbody tr th {\n",
       "        vertical-align: top;\n",
       "    }\n",
       "\n",
       "    .dataframe thead th {\n",
       "        text-align: right;\n",
       "    }\n",
       "</style>\n",
       "<table border=\"1\" class=\"dataframe\">\n",
       "  <thead>\n",
       "    <tr style=\"text-align: right;\">\n",
       "      <th></th>\n",
       "      <th>smoking</th>\n",
       "      <th>alcohol</th>\n",
       "      <th>gambling</th>\n",
       "      <th>skydiving</th>\n",
       "      <th>...</th>\n",
       "      <th>age</th>\n",
       "      <th>income</th>\n",
       "      <th>education</th>\n",
       "      <th>region</th>\n",
       "    </tr>\n",
       "  </thead>\n",
       "  <tbody>\n",
       "    <tr>\n",
       "      <th>2</th>\n",
       "      <td>No</td>\n",
       "      <td>Yes</td>\n",
       "      <td>No</td>\n",
       "      <td>No</td>\n",
       "      <td>...</td>\n",
       "      <td>&gt; 60</td>\n",
       "      <td>$50,000 - $99,999</td>\n",
       "      <td>Some college or Associate degree</td>\n",
       "      <td>East North Central</td>\n",
       "    </tr>\n",
       "    <tr>\n",
       "      <th>3</th>\n",
       "      <td>No</td>\n",
       "      <td>Yes</td>\n",
       "      <td>Yes</td>\n",
       "      <td>No</td>\n",
       "      <td>...</td>\n",
       "      <td>&gt; 60</td>\n",
       "      <td>$150,000+</td>\n",
       "      <td>Graduate degree</td>\n",
       "      <td>South Atlantic</td>\n",
       "    </tr>\n",
       "    <tr>\n",
       "      <th>4</th>\n",
       "      <td>Yes</td>\n",
       "      <td>Yes</td>\n",
       "      <td>Yes</td>\n",
       "      <td>No</td>\n",
       "      <td>...</td>\n",
       "      <td>&gt; 60</td>\n",
       "      <td>$50,000 - $99,999</td>\n",
       "      <td>Bachelor degree</td>\n",
       "      <td>New England</td>\n",
       "    </tr>\n",
       "    <tr>\n",
       "      <th>5</th>\n",
       "      <td>No</td>\n",
       "      <td>Yes</td>\n",
       "      <td>No</td>\n",
       "      <td>No</td>\n",
       "      <td>...</td>\n",
       "      <td>&gt; 60</td>\n",
       "      <td>$50,000 - $99,999</td>\n",
       "      <td>Graduate degree</td>\n",
       "      <td>Middle Atlantic</td>\n",
       "    </tr>\n",
       "    <tr>\n",
       "      <th>6</th>\n",
       "      <td>No</td>\n",
       "      <td>No</td>\n",
       "      <td>No</td>\n",
       "      <td>No</td>\n",
       "      <td>...</td>\n",
       "      <td>18-29</td>\n",
       "      <td>$0 - $24,999</td>\n",
       "      <td>Some college or Associate degree</td>\n",
       "      <td>West South Central</td>\n",
       "    </tr>\n",
       "  </tbody>\n",
       "</table>\n",
       "<p>5 rows × 13 columns</p>\n",
       "</div>"
      ],
      "text/plain": [
       "  smoking alcohol gambling skydiving  ...    age             income  \\\n",
       "2      No     Yes       No        No  ...   > 60  $50,000 - $99,999   \n",
       "3      No     Yes      Yes        No  ...   > 60          $150,000+   \n",
       "4     Yes     Yes      Yes        No  ...   > 60  $50,000 - $99,999   \n",
       "5      No     Yes       No        No  ...   > 60  $50,000 - $99,999   \n",
       "6      No      No       No        No  ...  18-29       $0 - $24,999   \n",
       "\n",
       "                          education              region  \n",
       "2  Some college or Associate degree  East North Central  \n",
       "3                   Graduate degree      South Atlantic  \n",
       "4                   Bachelor degree         New England  \n",
       "5                   Graduate degree     Middle Atlantic  \n",
       "6  Some college or Associate degree  West South Central  \n",
       "\n",
       "[5 rows x 13 columns]"
      ]
     },
     "execution_count": 3,
     "metadata": {},
     "output_type": "execute_result"
    }
   ],
   "source": [
    "# read in and clean up the data\n",
    "survey = pd.read_csv('https://raw.githubusercontent.com/fivethirtyeight/data/master/steak-survey/steak-risk-survey.csv')\n",
    "survey  = survey.iloc[1:,2:]\n",
    "survey.columns = ['smoking','alcohol','gambling',\n",
    " 'skydiving','speeding', 'cheated',\n",
    " 'steak', 'steak_preference','gender',\n",
    " 'age', 'income', 'education', 'region']\n",
    "survey = survey.dropna(how='all')\n",
    "survey.head()"
   ]
  },
  {
   "cell_type": "markdown",
   "id": "bd5f373e",
   "metadata": {},
   "source": [
    "### Several Exploratory Data Analysis and Data Visualizations:"
   ]
  },
  {
   "cell_type": "markdown",
   "id": "a890bd7e",
   "metadata": {},
   "source": [
    "How to count the number of each unique answers in a column:"
   ]
  },
  {
   "cell_type": "code",
   "execution_count": 4,
   "id": "4979eb20",
   "metadata": {},
   "outputs": [
    {
     "data": {
      "text/plain": [
       "Yes    416\n",
       "No     125\n",
       "Name: alcohol, dtype: int64"
      ]
     },
     "execution_count": 4,
     "metadata": {},
     "output_type": "execute_result"
    }
   ],
   "source": [
    "survey['alcohol'].value_counts()"
   ]
  },
  {
   "cell_type": "markdown",
   "id": "89aa08bb",
   "metadata": {},
   "source": [
    "How to make a barplot using Seaborn:"
   ]
  },
  {
   "cell_type": "code",
   "execution_count": 5,
   "id": "48e62ed9",
   "metadata": {},
   "outputs": [
    {
     "data": {
      "image/png": "[encoded data removed]",
      "text/plain": [
       "<Figure size 720x360 with 1 Axes>"
      ]
     },
     "metadata": {},
     "output_type": "display_data"
    }
   ],
   "source": [
    "plot_alcohol = sns.countplot(x = 'alcohol', # The x-axis represents the 'alcohol' values\n",
    "              hue = 'gender',  # Differentiate bars by 'gender'\n",
    "              data = survey);\n",
    "\n",
    "# Define the data source and the variables to be plotted\n",
    "# 'alcohol' is the variable on the x-axis, and 'gender' is used for color differentiation.\n",
    "# 'data=survey' specifies that the data for the plot comes from the 'survey' dataset.\n",
    "\n",
    "plt.show()\n",
    "# This line shows the plot (optional)"
   ]
  },
  {
   "cell_type": "markdown",
   "id": "4752d609",
   "metadata": {},
   "source": [
    "How to make the barplot show proportions instead of value counts:"
   ]
  },
  {
   "cell_type": "code",
   "execution_count": 6,
   "id": "7e4a0743",
   "metadata": {},
   "outputs": [
    {
     "data": {
      "text/html": [
       "<div>\n",
       "<style scoped>\n",
       "    .dataframe tbody tr th:only-of-type {\n",
       "        vertical-align: middle;\n",
       "    }\n",
       "\n",
       "    .dataframe tbody tr th {\n",
       "        vertical-align: top;\n",
       "    }\n",
       "\n",
       "    .dataframe thead th {\n",
       "        text-align: right;\n",
       "    }\n",
       "</style>\n",
       "<table border=\"1\" class=\"dataframe\">\n",
       "  <thead>\n",
       "    <tr style=\"text-align: right;\">\n",
       "      <th></th>\n",
       "      <th>gender</th>\n",
       "      <th>alcohol</th>\n",
       "      <th>proportion</th>\n",
       "    </tr>\n",
       "  </thead>\n",
       "  <tbody>\n",
       "    <tr>\n",
       "      <th>0</th>\n",
       "      <td>Female</td>\n",
       "      <td>Yes</td>\n",
       "      <td>0.74</td>\n",
       "    </tr>\n",
       "    <tr>\n",
       "      <th>1</th>\n",
       "      <td>Female</td>\n",
       "      <td>No</td>\n",
       "      <td>0.26</td>\n",
       "    </tr>\n",
       "    <tr>\n",
       "      <th>2</th>\n",
       "      <td>Male</td>\n",
       "      <td>Yes</td>\n",
       "      <td>0.79</td>\n",
       "    </tr>\n",
       "    <tr>\n",
       "      <th>3</th>\n",
       "      <td>Male</td>\n",
       "      <td>No</td>\n",
       "      <td>0.21</td>\n",
       "    </tr>\n",
       "  </tbody>\n",
       "</table>\n",
       "</div>"
      ],
      "text/plain": [
       "   gender alcohol  proportion\n",
       "0  Female     Yes        0.74\n",
       "1  Female      No        0.26\n",
       "2    Male     Yes        0.79\n",
       "3    Male      No        0.21"
      ]
     },
     "execution_count": 6,
     "metadata": {},
     "output_type": "execute_result"
    }
   ],
   "source": [
    "prop_df = (survey.groupby(['gender'])['alcohol']\n",
    "           .value_counts(normalize = True) # Calculate proportions by setting normalize=True\n",
    "           .rename('proportion') # Rename the resulting column to 'proportion'\n",
    "           .reset_index()) # Reset the index to create a new DataFrame\n",
    "\n",
    "# The resulting 'prop_df' DataFrame will have columns:\n",
    "# - 'gender': The gender category\n",
    "# - 'alcohol': The 'alcohol' value within that category\n",
    "# - 'proportion': The proportion of occurrences of each 'alcohol' value \n",
    "#    within the corresponding 'gender' category.\n",
    "\n",
    "prop_df"
   ]
  },
  {
   "cell_type": "code",
   "execution_count": 7,
   "id": "847b6812",
   "metadata": {},
   "outputs": [
    {
     "data": {
      "image/png": "[encoded data removed]",
      "text/plain": [
       "<Figure size 720x360 with 1 Axes>"
      ]
     },
     "metadata": {},
     "output_type": "display_data"
    }
   ],
   "source": [
    "# Plot the data:\n",
    "\n",
    "plot_proportion = sns.barplot(x = 'alcohol', # The x-axis represents the 'alcohol' values\n",
    "            y = 'proportion', # The y-axis represents the 'proportion' values\n",
    "            hue = 'gender', \n",
    "            data = prop_df);\n",
    "\n",
    "plt.show()"
   ]
  },
  {
   "cell_type": "markdown",
   "id": "72bc0dde",
   "metadata": {},
   "source": [
    "How to change the hue order in a boxplot:"
   ]
  },
  {
   "cell_type": "code",
   "execution_count": 8,
   "id": "3c8b1676",
   "metadata": {},
   "outputs": [
    {
     "data": {
      "image/png": "[encoded data removed]",
      "text/plain": [
       "<Figure size 720x360 with 1 Axes>"
      ]
     },
     "metadata": {},
     "output_type": "display_data"
    }
   ],
   "source": [
    "plot_reorder = sns.barplot(x = 'alcohol', \n",
    "            y = 'proportion', \n",
    "            hue = 'gender', \n",
    "            hue_order = [\"Male\",\"Female\"], # Make the hue order as ['Male', 'Female']\n",
    "            data = prop_df);"
   ]
  },
  {
   "cell_type": "markdown",
   "id": "e63cf3ee",
   "metadata": {},
   "source": [
    "How to make a boxplot in different color and orientation :"
   ]
  },
  {
   "cell_type": "code",
   "execution_count": 9,
   "id": "78f77101",
   "metadata": {},
   "outputs": [
    {
     "data": {
      "image/png": "[encoded data removed]",
      "text/plain": [
       "<Figure size 720x360 with 1 Axes>"
      ]
     },
     "metadata": {},
     "output_type": "display_data"
    }
   ],
   "source": [
    "plot_reorder = sns.barplot(x = 'proportion', # We can change the orientation by simply swap the x and y axis\n",
    "            y = 'alcohol', \n",
    "            hue = 'gender', \n",
    "            hue_order = [\"Male\",\"Female\"], # Make the hue order as ['Male', 'Female']\n",
    "            palette = \"magma\", # Change the palette to \"magma\"\n",
    "                               # For more palettes, go to https://seaborn.pydata.org/tutorial/color_palettes.html\n",
    "            data = prop_df);"
   ]
  }
 ],
 "metadata": {
  "kernelspec": {
   "display_name": "Python 3 (ipykernel)",
   "language": "python",
   "name": "python3"
  },
  "language_info": {
   "codemirror_mode": {
    "name": "ipython",
    "version": 3
   },
   "file_extension": ".py",
   "mimetype": "text/x-python",
   "name": "python",
   "nbconvert_exporter": "python",
   "pygments_lexer": "ipython3",
   "version": "3.9.7"
  }
 },
 "nbformat": 4,
 "nbformat_minor": 5
}
